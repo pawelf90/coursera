{
 "cells": [
  {
   "cell_type": "markdown",
   "id": "107eb395-f47d-44be-8c35-cd722d2ed998",
   "metadata": {},
   "source": [
    "<center>\n",
    "    <img src=\"https://cf-courses-data.s3.us.cloud-object-storage.appdomain.cloud/IBMDeveloperSkillsNetwork-DS0105EN-SkillsNetwork/labs/Module2/images/SN_web_lightmode.png\" width=\"300\" alt=\"cognitiveclass.ai logo\">\n",
    "</center>\n"
   ]
  },
  {
   "cell_type": "markdown",
   "id": "fc9cf5e0",
   "metadata": {},
   "source": [
    "# Peer-graded Assignment"
   ]
  },
  {
   "cell_type": "markdown",
   "id": "54f117da",
   "metadata": {},
   "source": [
    "## Data Science Languages\n",
    "- Python\n",
    "- R\n",
    "- SQL\n",
    "- Scala\n",
    "- Java\n",
    "- C++\n",
    "- Julia"
   ]
  },
  {
   "cell_type": "markdown",
   "id": "dedab0af",
   "metadata": {},
   "source": [
    "## Data Science Libraries\n",
    "- Pandas\n",
    "- NumPy\n",
    "- Matplotlib\n",
    "- Seaborn\n",
    "- Scikit-learn\n",
    "- TensorFlow\n",
    "- Keras"
   ]
  },
  {
   "cell_type": "markdown",
   "id": "2c87b895",
   "metadata": {},
   "source": [
    "## Data Science Tools\n",
    "| Tool | Description |\n",
    "|------|-------------|\n",
    "| Jupyter Notebook | Interactive coding environment |\n",
    "| RStudio | IDE for R |\n",
    "| Apache Spark | Big Data processing |\n",
    "| Tableau | Data visualization |\n",
    "| Power BI | Business Intelligence |"
   ]
  },
  {
   "cell_type": "markdown",
   "id": "ddcb5d56",
   "metadata": {},
   "source": [
    "## Arithmetic Expression Examples\n",
    "Below are examples of arithmetic operations in Python."
   ]
  },
  {
   "cell_type": "code",
   "execution_count": 5,
   "id": "5a882df8",
   "metadata": {},
   "outputs": [
    {
     "data": {
      "text/plain": [
       "17"
      ]
     },
     "execution_count": 5,
     "metadata": {},
     "output_type": "execute_result"
    }
   ],
   "source": [
    "x = (3 * 4) + 5\n",
    "x"
   ]
  },
  {
   "cell_type": "code",
   "execution_count": 2,
   "id": "de1c26b2",
   "metadata": {},
   "outputs": [
    {
     "data": {
      "text/plain": [
       "2.0"
      ]
     },
     "execution_count": 2,
     "metadata": {},
     "output_type": "execute_result"
    }
   ],
   "source": [
    "minutes = 120\n",
    "hours = minutes / 60\n",
    "hours"
   ]
  },
  {
   "cell_type": "markdown",
   "id": "676b5c10",
   "metadata": {},
   "source": [
    "## Objectives\n",
    "- Learn about Data Science languages\n",
    "- Understand key Data Science libraries\n",
    "- Explore essential Data Science tools\n",
    "- Perform basic arithmetic operations in Python"
   ]
  },
  {
   "cell_type": "markdown",
   "id": "8a0e02d2",
   "metadata": {},
   "source": [
    "## Author\n",
    "Paweł Fryc"
   ]
  },
  {
   "cell_type": "markdown",
   "id": "9d3d3e90",
   "metadata": {},
   "source": [
    "## Sharing on GitHub\n",
    "To share this notebook, follow these steps:\n",
    "1. Save the notebook.\n",
    "2. Open GitHub and create a new repository.\n",
    "3. Upload the `.ipynb` file to the repository.\n",
    "4. Commit and push the changes to GitHub."
   ]
  },
  {
   "cell_type": "markdown",
   "id": "717666cd",
   "metadata": {},
   "source": [
    "## Screenshot\n",
    "Take a screenshot of the first page of the notebook and save it as an image file."
   ]
  }
 ],
 "metadata": {
  "kernelspec": {
   "display_name": "Python 3 (ipykernel)",
   "language": "python",
   "name": "python3"
  },
  "language_info": {
   "codemirror_mode": {
    "name": "ipython",
    "version": 3
   },
   "file_extension": ".py",
   "mimetype": "text/x-python",
   "name": "python",
   "nbconvert_exporter": "python",
   "pygments_lexer": "ipython3",
   "version": "3.12.8"
  }
 },
 "nbformat": 4,
 "nbformat_minor": 5
}
